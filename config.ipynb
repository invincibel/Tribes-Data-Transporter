{
 "cells": [
  {
   "cell_type": "code",
   "execution_count": null,
   "metadata": {},
   "outputs": [],
   "source": [
    "import os\n",
    "import dotenv\n",
    "from collections import defaultdict\n",
    "from gremlin_python.driver.driver_remote_connection import DriverRemoteConnection\n",
    "from gremlin_python.process.anonymous_traversal import traversal\n",
    "from gremlin_python.driver import client, serializer\n",
    "\n",
    "dotenv.load_dotenv()\n",
    "ENDPOINT = os.getenv('ENDPOINT')\n",
    "DATABASE = os.getenv('DATABASE')\n",
    "COLLECTION = os.getenv('COLLECTION')\n",
    "PRIMARY_KEY = os.getenv('PRIMARY_KEY')\n",
    "BUCKET_NAME = os.getenv('BUCKET_NAME')\n",
    "cwd = os.getcwd()\n",
    "path_to_gcp_credentials = cwd + r\"\\My First Project-4f7663bcebf3.json\"\n",
    "idof = defaultdict(list)\n",
    "isedge = defaultdict(bool)\n",
    "\n",
    "gremlin_client = client.Client(\n",
    "        ENDPOINT , 'g',\n",
    "        username=\"/dbs/\" + DATABASE + \"/colls/\" + COLLECTION,\n",
    "        password=PRIMARY_KEY,\n",
    "        message_serializer=serializer.GraphSONSerializersV2d0()\n",
    ")\n",
    "g = traversal().withRemote(gremlin_client)\n"
   ]
  }
 ],
 "metadata": {
  "kernelspec": {
   "display_name": "Python 3",
   "language": "python",
   "name": "python3"
  },
  "language_info": {
   "codemirror_mode": {
    "name": "ipython",
    "version": 3
   },
   "file_extension": ".py",
   "mimetype": "text/x-python",
   "name": "python",
   "nbconvert_exporter": "python",
   "pygments_lexer": "ipython3",
   "version": "3.8.5"
  }
 },
 "nbformat": 4,
 "nbformat_minor": 4
}
